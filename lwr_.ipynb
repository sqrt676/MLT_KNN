{
 "cells": [
  {
   "attachments": {},
   "cell_type": "markdown",
   "metadata": {},
   "source": [
    "**hello everyone**\n",
    "I am **sqrt676** (Sumit Pandey)\n",
    "Today we will deal here with locally weighted algorithm.\n",
    "lets learn about few major points of LWR"
   ]
  },
  {
   "attachments": {},
   "cell_type": "markdown",
   "metadata": {},
   "source": [
    "LWR\n",
    "1. it works where linear regression fails due to non linear relationship b/w X and Y\n",
    "2. it is a supervised learning algo\n",
    "3. non parametric in broad sense.\n",
    "4. it's memory based, calculation of cost function is done using weight W(i),\n",
    "   where W(i) is non negative constant , directly proportional to the viscinity\n",
    "\n",
    "**lets code to understand better**"
   ]
  },
  {
   "cell_type": "code",
   "execution_count": 2,
   "metadata": {},
   "outputs": [],
   "source": [
    "import numpy as np\n",
    "np.random.seed(8)\n",
    "X = np.random.randn(1000,1)\n",
    "y = 2*(X**3) + 10 + 4.6*np.random.randn(1000,1)"
   ]
  },
  {
   "attachments": {},
   "cell_type": "markdown",
   "metadata": {},
   "source": [
    "n → number of features (1 in our example)\n",
    "m → number of training examples (1000 in our example)\n",
    "X(Uppercase) → Features\n",
    "y → output sequence\n",
    "x (lowercase)→ The point at which we want to make the prediction. Referred as point in the code.\n",
    "x(i) →ith training example"
   ]
  },
  {
   "cell_type": "code",
   "execution_count": 3,
   "metadata": {},
   "outputs": [],
   "source": [
    "# Weight Matrix in code. It is a diagonal matrix.\n",
    "def wm(point, X, tau): \n",
    "    \n",
    "  # tau --> bandwidth\n",
    "  # X --> Training data.\n",
    "  # point --> the x where we want to make the prediction.\n",
    "    \n",
    "  # m is the No of training examples .\n",
    "    m = X.shape[0] \n",
    "    \n",
    "  # Initialising W as an identity matrix.\n",
    "    w = np.mat(np.eye(m)) \n",
    "    \n",
    "  # Calculating weights for all training examples [x(i)'s].\n",
    "    for i in range(m): \n",
    "        xi = X[i] \n",
    "        d = (-2 * tau * tau) \n",
    "        w[i, i] = np.exp(np.dot((xi-point), (xi-point).T)/d) \n",
    "        \n",
    "    return w"
   ]
  },
  {
   "cell_type": "code",
   "execution_count": 4,
   "metadata": {},
   "outputs": [],
   "source": [
    "def predict(X, y, point, tau): \n",
    "    \n",
    "   # m = number of training examples. \n",
    "    m = X.shape[0] \n",
    "    \n",
    "   # Appending a cloumn of ones in X to add the bias term.\n",
    "## # Just one parameter: theta, that's why adding a column of ones        #### to X and also adding a 1 for the point where we want to          #### predict. \n",
    "    X_ = np.append(X, np.ones(m).reshape(m,1), axis=1) \n",
    "    \n",
    "   # point is the x where we want to make the prediction. \n",
    "    point_ = np.array([point, 1]) \n",
    "    \n",
    "   # Calculating the weight matrix using the wm function we wrote      #  # earlier. \n",
    "    w = wm(point_, X_, tau) \n",
    "    \n",
    "  # Calculating parameter theta using the formula.\n",
    "    theta = np.linalg.pinv(X_.T*(w * X_))*(X_.T*(w * y)) \n",
    "    \n",
    "  # Calculating predictions.  \n",
    "    pred = np.dot(point_, theta) \n",
    "    \n",
    "   # Returning the theta and predictions \n",
    "    return theta, pred"
   ]
  },
  {
   "attachments": {},
   "cell_type": "markdown",
   "metadata": {},
   "source": [
    "lets look further"
   ]
  },
  {
   "cell_type": "code",
   "execution_count": 8,
   "metadata": {},
   "outputs": [],
   "source": [
    "import matplotlib.pyplot as plt"
   ]
  },
  {
   "cell_type": "code",
   "execution_count": 12,
   "metadata": {},
   "outputs": [
    {
     "data": {
      "image/png": "[encoded data removed]",
      "text/plain": [
       "<Figure size 640x480 with 1 Axes>"
      ]
     },
     "metadata": {},
     "output_type": "display_data"
    }
   ],
   "source": [
    "def plot_predictions(X, y, tau, nval):\n",
    "   # X --> Training data. \n",
    "   # y --> Output sequence.\n",
    "   # nval --> number of values/points for which we are going to\n",
    "   # predict.\n",
    "   # tau --> the bandwidth.     \n",
    "    # The values for which we are going to predict.\n",
    "   # X_test includes nval evenly spaced values in the domain of X.\n",
    "    X_test = np.linspace(-3, 3, nval) \n",
    "    \n",
    "   # Empty list for storing predictions. \n",
    "    preds = [] \n",
    "    \n",
    "   # Predicting for all nval values and storing them in preds. \n",
    "    for point in X_test: \n",
    "        theta, pred = predict(X, y, point, tau) \n",
    "        preds.append(pred)\n",
    "        \n",
    "   # Reshaping X_test and preds\n",
    "    X_test = np.array(X_test).reshape(nval,1)\n",
    "    preds = np.array(preds).reshape(nval,1)\n",
    "    \n",
    "   # Plotting \n",
    "    plt.plot(X, y, 'r.')\n",
    "    plt.plot(X_test, preds, 'b.') # Predictions in red color.\n",
    "    plt.show()\n",
    "plot_predictions(X, y, 0.08, 100)\n"
   ]
  }
 ],
 "metadata": {
  "kernelspec": {
   "display_name": "myenv",
   "language": "python",
   "name": "python3"
  },
  "language_info": {
   "codemirror_mode": {
    "name": "ipython",
    "version": 3
   },
   "file_extension": ".py",
   "mimetype": "text/x-python",
   "name": "python",
   "nbconvert_exporter": "python",
   "pygments_lexer": "ipython3",
   "version": "3.10.8"
  },
  "orig_nbformat": 4,
  "vscode": {
   "interpreter": {
    "hash": "857970f990130bbcaee778cf1846f7875676d945310dca1379fe4b5ef3d258a5"
   }
  }
 },
 "nbformat": 4,
 "nbformat_minor": 2
}
